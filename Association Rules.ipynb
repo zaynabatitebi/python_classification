{
 "cells": [
  {
   "cell_type": "markdown",
   "id": "fad5aaba",
   "metadata": {},
   "source": [
    "## Association Rule Mining\n",
    "\n",
    "\n",
    "\n",
    "We will define some numbers that can make it easier to decide whether a rule is valid or just coincidence.\n",
    "\n",
    "\n",
    "1. {bread, yoghurt}\n",
    "2. {milk, bread, carrots}\n",
    "3. {bread, carrots}\n",
    "4. {bread, milk}\n",
    "5. {milk, dates, carrots}\n",
    "6. {milk, dates, yoghurt, bread}\n",
    "\n",
    "### 1. Confidence\n",
    "\n",
    "This can be defined as the number of transactions in which the itemset is divided by the total number of itemset the first item is pesent. In other words, the confidence tell us the proportion of transactions where the presence of item X results in the presence of item Y.\n",
    "\n",
    "$$c(X \\to Y) = \\frac{T(X\\ AND Y)}{T(X)} $$\n",
    "\n",
    "$$c(\\text{bread} \\to \\text{milk}) = \\frac{3}{5} = 60\\% $$\n",
    "\n",
    "According to this analysis, you are 60% confident that you will find milk when you see bread in the basket.\n",
    "\n",
    "### 2. Support\n",
    "\n",
    "The support of an itemset or rule measures how frequently it occurs in the data.\n",
    "\n",
    "$$S(X \\to Y) = \\frac{T(X\\ AND Y)}{T()} $$\n",
    "\n",
    "\n",
    "### 3. Lift\n",
    "\n",
    "$$L(X \\to Y) = \\frac{c(X \\to Y)}{S(Y)} $$\n",
    "\n",
    "If the lift is greater than 1, this implies that the two items are found together more often than one would expect by chance."
   ]
  },
  {
   "cell_type": "code",
   "execution_count": 1,
   "id": "537790da",
   "metadata": {},
   "outputs": [
    {
     "ename": "ModuleNotFoundError",
     "evalue": "No module named 'mlxtend'",
     "output_type": "error",
     "traceback": [
      "\u001b[1;31m---------------------------------------------------------------------------\u001b[0m",
      "\u001b[1;31mModuleNotFoundError\u001b[0m                       Traceback (most recent call last)",
      "\u001b[1;32m~\\AppData\\Local\\Temp/ipykernel_12196/61819889.py\u001b[0m in \u001b[0;36m<module>\u001b[1;34m\u001b[0m\n\u001b[0;32m      1\u001b[0m \u001b[1;32mimport\u001b[0m \u001b[0mpandas\u001b[0m \u001b[1;32mas\u001b[0m \u001b[0mpd\u001b[0m\u001b[1;33m\u001b[0m\u001b[1;33m\u001b[0m\u001b[0m\n\u001b[0;32m      2\u001b[0m \u001b[1;32mfrom\u001b[0m \u001b[0mmatplotlib\u001b[0m \u001b[1;32mimport\u001b[0m \u001b[0mpyplot\u001b[0m \u001b[1;32mas\u001b[0m \u001b[0mplt\u001b[0m\u001b[1;33m\u001b[0m\u001b[1;33m\u001b[0m\u001b[0m\n\u001b[1;32m----> 3\u001b[1;33m \u001b[1;32mfrom\u001b[0m \u001b[0mmlxtend\u001b[0m\u001b[1;33m.\u001b[0m\u001b[0mfrequent_patterns\u001b[0m \u001b[1;32mimport\u001b[0m \u001b[0mapriori\u001b[0m\u001b[1;33m,\u001b[0m \u001b[0massociation_rules\u001b[0m\u001b[1;33m\u001b[0m\u001b[1;33m\u001b[0m\u001b[0m\n\u001b[0m",
      "\u001b[1;31mModuleNotFoundError\u001b[0m: No module named 'mlxtend'"
     ]
    }
   ],
   "source": [
    "import pandas as pd\n",
    "from matplotlib import pyplot as plt\n",
    "from mlxtend.frequent_patterns import apriori, association_rules"
   ]
  },
  {
   "cell_type": "code",
   "execution_count": null,
   "id": "2206d04b",
   "metadata": {},
   "outputs": [],
   "source": [
    "online_retail=pd.read_excel('Online Retail.xlsx')\n",
    "online_retail.info()\n",
    "online_retail.head()"
   ]
  },
  {
   "cell_type": "code",
   "execution_count": null,
   "id": "c7e16cfb",
   "metadata": {},
   "outputs": [],
   "source": [
    "online_retail.Country.value_counts()"
   ]
  },
  {
   "cell_type": "markdown",
   "id": "6ef7cdb7",
   "metadata": {},
   "source": [
    "## Data Cleaning\n",
    "\n",
    "* Select UK transactions"
   ]
  },
  {
   "cell_type": "code",
   "execution_count": null,
   "id": "392efa9b",
   "metadata": {},
   "outputs": [],
   "source": [
    "online_retail[online_retail.Country.isin(['United Kingdom', 'Canada', 'RSA'])]"
   ]
  },
  {
   "cell_type": "code",
   "execution_count": null,
   "id": "33faa97e",
   "metadata": {},
   "outputs": [],
   "source": [
    "UK_retail=online_retail[online_retail.Country == 'United Kingdom']\n",
    "UK_retail=UK_retail.reset_index(drop=True)"
   ]
  },
  {
   "cell_type": "code",
   "execution_count": null,
   "id": "3cf6c7eb",
   "metadata": {},
   "outputs": [],
   "source": [
    "UK_retail.info()"
   ]
  },
  {
   "cell_type": "markdown",
   "id": "f8e236b9",
   "metadata": {},
   "source": [
    "* Convert Invoice number to string so that we can drop the cancellations"
   ]
  },
  {
   "cell_type": "code",
   "execution_count": null,
   "id": "194348b8",
   "metadata": {},
   "outputs": [],
   "source": [
    "UK_retail['InvoiceNo'] = UK_retail['InvoiceNo'].astype('str')"
   ]
  },
  {
   "cell_type": "markdown",
   "id": "9e90a98e",
   "metadata": {},
   "source": [
    "* Drop cancellations"
   ]
  },
  {
   "cell_type": "code",
   "execution_count": null,
   "id": "b46630e5",
   "metadata": {},
   "outputs": [],
   "source": [
    "UK_retail=UK_retail[~UK_retail.InvoiceNo.str.contains('C')].reset_index(drop=True)"
   ]
  },
  {
   "cell_type": "code",
   "execution_count": null,
   "id": "12ac4d57",
   "metadata": {},
   "outputs": [],
   "source": [
    "UK_retail.isnull().sum()"
   ]
  },
  {
   "cell_type": "markdown",
   "id": "bbb1ceb7",
   "metadata": {},
   "source": [
    "* Drop missing descriptions"
   ]
  },
  {
   "cell_type": "code",
   "execution_count": null,
   "id": "a0d32edf",
   "metadata": {},
   "outputs": [],
   "source": [
    "UK_retail=UK_retail.dropna(subset=['Description']).reset_index(drop=True)\n",
    "UK_retail.isnull().sum()"
   ]
  },
  {
   "cell_type": "code",
   "execution_count": null,
   "id": "8bb768fc",
   "metadata": {},
   "outputs": [],
   "source": [
    "UK_retail.Description=UK_retail.Description.str.strip()"
   ]
  },
  {
   "cell_type": "markdown",
   "id": "97c9e6ba",
   "metadata": {},
   "source": [
    "* Take absolute values of the quantity"
   ]
  },
  {
   "cell_type": "code",
   "execution_count": null,
   "id": "aae17025",
   "metadata": {},
   "outputs": [],
   "source": [
    "UK_retail.Quantity= UK_retail['Quantity'].abs()"
   ]
  },
  {
   "cell_type": "code",
   "execution_count": 2,
   "id": "34f107f1",
   "metadata": {},
   "outputs": [
    {
     "ename": "NameError",
     "evalue": "name 'UK_retail' is not defined",
     "output_type": "error",
     "traceback": [
      "\u001b[1;31m---------------------------------------------------------------------------\u001b[0m",
      "\u001b[1;31mNameError\u001b[0m                                 Traceback (most recent call last)",
      "\u001b[1;32m~\\AppData\\Local\\Temp/ipykernel_12196/75196408.py\u001b[0m in \u001b[0;36m<module>\u001b[1;34m\u001b[0m\n\u001b[1;32m----> 1\u001b[1;33m \u001b[0mUK_retail\u001b[0m\u001b[1;33m\u001b[0m\u001b[1;33m\u001b[0m\u001b[0m\n\u001b[0m",
      "\u001b[1;31mNameError\u001b[0m: name 'UK_retail' is not defined"
     ]
    }
   ],
   "source": [
    "UK_retail"
   ]
  },
  {
   "cell_type": "code",
   "execution_count": null,
   "id": "0e23948a",
   "metadata": {},
   "outputs": [],
   "source": [
    "transactions=UK_retail.groupby(['InvoiceNo', 'Description'])['Quantity']\\\n",
    ".sum().unstack().fillna(0)"
   ]
  },
  {
   "cell_type": "code",
   "execution_count": null,
   "id": "df7dab11",
   "metadata": {},
   "outputs": [],
   "source": [
    "transactions"
   ]
  },
  {
   "cell_type": "code",
   "execution_count": null,
   "id": "f7f67214",
   "metadata": {},
   "outputs": [],
   "source": [
    "def binary(x):\n",
    "    if x > 0:\n",
    "        return 1\n",
    "    else:\n",
    "        return 0"
   ]
  },
  {
   "cell_type": "code",
   "execution_count": null,
   "id": "63f9bc67",
   "metadata": {},
   "outputs": [],
   "source": [
    "transactions.sum().sort_values(ascending=False).iloc[:10].plot(kind='barh')\n",
    "plt.title('Top 10 items')"
   ]
  },
  {
   "cell_type": "code",
   "execution_count": null,
   "id": "14416d8d",
   "metadata": {},
   "outputs": [],
   "source": []
  },
  {
   "cell_type": "code",
   "execution_count": null,
   "id": "eabe5c4f",
   "metadata": {},
   "outputs": [],
   "source": [
    "transaction_final=transactions.applymap(binary)"
   ]
  },
  {
   "cell_type": "code",
   "execution_count": null,
   "id": "56bbf7c4",
   "metadata": {},
   "outputs": [],
   "source": [
    "transaction_final.sum().sort_values(ascending=False).iloc[:10].plot(kind='barh')\n",
    "plt.title('Top 10 most occuring items')"
   ]
  },
  {
   "cell_type": "code",
   "execution_count": null,
   "id": "7eb9ae17",
   "metadata": {},
   "outputs": [],
   "source": [
    "mba = apriori(transaction_final, min_support=0.02, use_colnames=True)"
   ]
  },
  {
   "cell_type": "code",
   "execution_count": null,
   "id": "02342e47",
   "metadata": {},
   "outputs": [],
   "source": [
    "rules=association_rules(mba, metric='lift', min_threshold=1)"
   ]
  },
  {
   "cell_type": "code",
   "execution_count": null,
   "id": "5a59efab",
   "metadata": {
    "scrolled": false
   },
   "outputs": [],
   "source": [
    "rules.sort_values(['confidence', 'lift'], ascending=[False, False]).reset_index(drop=True).iloc[:10]"
   ]
  },
  {
   "cell_type": "code",
   "execution_count": null,
   "id": "1816fbd8",
   "metadata": {},
   "outputs": [],
   "source": []
  }
 ],
 "metadata": {
  "kernelspec": {
   "display_name": "Python 3 (ipykernel)",
   "language": "python",
   "name": "python3"
  },
  "language_info": {
   "codemirror_mode": {
    "name": "ipython",
    "version": 3
   },
   "file_extension": ".py",
   "mimetype": "text/x-python",
   "name": "python",
   "nbconvert_exporter": "python",
   "pygments_lexer": "ipython3",
   "version": "3.9.7"
  }
 },
 "nbformat": 4,
 "nbformat_minor": 5
}
